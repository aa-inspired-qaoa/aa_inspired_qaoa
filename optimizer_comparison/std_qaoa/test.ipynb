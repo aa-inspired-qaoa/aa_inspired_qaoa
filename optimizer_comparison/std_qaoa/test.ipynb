{
 "cells": [
  {
   "cell_type": "code",
   "execution_count": 18,
   "metadata": {},
   "outputs": [],
   "source": [
    "from qiskit.circuit.library import QAOAAnsatz\n",
    "import random\n",
    "import numpy as np\n",
    "from qiskit.opflow import PauliSumOp, Z, I, X, One\n",
    "from qiskit.algorithms.optimizers import COBYLA, L_BFGS_B, BOBYQA, SPSA\n",
    "from qiskit import Aer"
   ]
  },
  {
   "cell_type": "code",
   "execution_count": 19,
   "metadata": {},
   "outputs": [],
   "source": [
    "def append_tensor(clause_op, append):\n",
    "    if clause_op == None:\n",
    "        return append\n",
    "    else:\n",
    "        return clause_op ^ append\n",
    "\n",
    "def get_clause_hamiltonian_min(clause, atoms):\n",
    "    identity = None \n",
    "    for _ in atoms:\n",
    "        identity = append_tensor(identity, I)\n",
    "    \n",
    "    clause_atoms = [abs(lit) for lit in clause]\n",
    "    clause_op = None\n",
    "    for atom in atoms:\n",
    "        if atom in clause_atoms:\n",
    "            # polarity\n",
    "            if atom in clause: # it is positive in the clause\n",
    "                clause_op = append_tensor(clause_op, (1/2)*(I+Z))\n",
    "            else: # it is negative in the clause\n",
    "                clause_op = append_tensor(clause_op, (1/2)*(I-Z))\n",
    "        else: # it is not in the clause\n",
    "            clause_op = append_tensor(clause_op, I)\n",
    "            \n",
    "    return clause_op # max3sat minimization version does not subtract from identity\n",
    "\n",
    "\n",
    "def cost_operator_maxsat(pysat_formula, atoms):\n",
    "    # using cost function formula found in e.g. Zhang et al.\n",
    "    # Ex. formula: [[-2, 1, -4], [-3, -4, -5], [3, 4, -1], [-2, -3, 1]]\n",
    "    #print(\"Formula: \", pysat_formula)\n",
    "\n",
    "    cf = 0 \n",
    "\n",
    "    for clause in pysat_formula:\n",
    "        cf = cf + get_clause_hamiltonian_min(clause, atoms)\n",
    "    \n",
    "    return cf"
   ]
  },
  {
   "cell_type": "code",
   "execution_count": 20,
   "metadata": {},
   "outputs": [],
   "source": [
    "def generate_clause_pysat(symbols):\n",
    "    # symbols is a list of integers that will be \n",
    "    # pick 3 variables\n",
    "    formula = random.sample(symbols, 3)\n",
    "    \n",
    "    polarity = np.binary_repr(random.randint(0,7), 3)\n",
    "    \n",
    "    for i, pol in enumerate(polarity):\n",
    "        if pol == '1':\n",
    "            formula[i] *= -1\n",
    "    \n",
    "    return formula\n",
    "\n",
    "def gen_random_3sat_pysat(symbols, num_clauses):\n",
    "    formula = [generate_clause_pysat(symbols) for i in range(0, num_clauses)]\n",
    "    \n",
    "    return formula"
   ]
  },
  {
   "cell_type": "code",
   "execution_count": 21,
   "metadata": {},
   "outputs": [],
   "source": [
    "symbols = [1,2,3,4,5,6,7,8,9,10]\n",
    "m = 25\n",
    "formula = gen_random_3sat_pysat(symbols, m)"
   ]
  },
  {
   "cell_type": "code",
   "execution_count": 22,
   "metadata": {},
   "outputs": [],
   "source": [
    "cost_op = (cost_operator_maxsat(formula, symbols)).reduce()"
   ]
  },
  {
   "cell_type": "code",
   "execution_count": 23,
   "metadata": {},
   "outputs": [],
   "source": [
    "import qaoa_from_bitflip as qbf"
   ]
  },
  {
   "cell_type": "code",
   "execution_count": 24,
   "metadata": {},
   "outputs": [],
   "source": [
    "def get_obj_value_fn(formula):\n",
    "    def obj_value_fn(bitvec):\n",
    "        # LSB of bitvec ist uppermost qubit is LSB of cost op = highest most variable in formula\n",
    "        sat_clauses = 0\n",
    "        for clause in formula:\n",
    "            for lit in clause:\n",
    "                if lit < 0:\n",
    "                    if bitvec[abs(lit)-1] == '0':\n",
    "                        sat_clauses += 1\n",
    "                        break\n",
    "                if lit > 0:\n",
    "                    if bitvec[abs(lit)-1] == '1':\n",
    "                        sat_clauses += 1\n",
    "                        break\n",
    "\n",
    "        return len(formula) - sat_clauses\n",
    "    return obj_value_fn"
   ]
  },
  {
   "cell_type": "code",
   "execution_count": 25,
   "metadata": {},
   "outputs": [],
   "source": [
    "obj_value_fn = get_obj_value_fn(formula)"
   ]
  },
  {
   "cell_type": "code",
   "execution_count": 26,
   "metadata": {},
   "outputs": [],
   "source": [
    "\n",
    "qaoa = qbf.QAOAbf(cost_op, obj_value_fn)\n",
    "#circ = qaoa.build_circuit(p=2)\n",
    "#circ.parameters\n",
    "\n",
    "bounds = np.array([[0, 2*np.pi], [0, 2*np.pi]], dtype=float)\n",
    "\n",
    "res, cts, bf, bp = qaoa.run(p=2, shots=100, optimizer=SPSA(), backend=Aer.get_backend(\"aer_simulator\"))"
   ]
  },
  {
   "cell_type": "code",
   "execution_count": 32,
   "metadata": {},
   "outputs": [],
   "source": [
    "from qiskit import Aer\n",
    "\n",
    "res, cts, bf, bp = qaoa.run(p=4, backend=Aer.get_backend('aer_simulator'))"
   ]
  },
  {
   "cell_type": "code",
   "execution_count": 27,
   "metadata": {},
   "outputs": [
    {
     "name": "stdout",
     "output_type": "stream",
     "text": [
      "{   'fun': 2.96,\n",
      "    'jac': None,\n",
      "    'nfev': 200,\n",
      "    'nit': 100,\n",
      "    'njev': None,\n",
      "    'x': array([ 1.3181108 , -0.1357734 ,  2.7598767 ,  7.79609992])}\n"
     ]
    }
   ],
   "source": [
    "print(res)"
   ]
  },
  {
   "cell_type": "code",
   "execution_count": 34,
   "metadata": {},
   "outputs": [
    {
     "name": "stdout",
     "output_type": "stream",
     "text": [
      "1.11\n"
     ]
    }
   ],
   "source": [
    "print(bf)"
   ]
  },
  {
   "cell_type": "code",
   "execution_count": null,
   "metadata": {},
   "outputs": [],
   "source": []
  }
 ],
 "metadata": {
  "kernelspec": {
   "display_name": "Python 3 (ipykernel)",
   "language": "python",
   "name": "python3"
  },
  "language_info": {
   "codemirror_mode": {
    "name": "ipython",
    "version": 3
   },
   "file_extension": ".py",
   "mimetype": "text/x-python",
   "name": "python",
   "nbconvert_exporter": "python",
   "pygments_lexer": "ipython3",
   "version": "3.8.2"
  },
  "orig_nbformat": 4
 },
 "nbformat": 4,
 "nbformat_minor": 2
}
